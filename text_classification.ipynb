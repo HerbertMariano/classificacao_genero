{
 "cells": [
  {
   "attachments": {},
   "cell_type": "markdown",
   "metadata": {},
   "source": [
    "<h2>Análise de Gênero de Autores:</h2>\n",
    "    <li>Fazer um experimento de classificação de texto e utilizar as métricas de classificação\n",
    "    <li>Quem escreve mais páginas, homens ou mulheres ou não há diferença? (Fazer um gráfico)\n",
    "    <li>Como é a distribuição de gênero de livro para homens e mulheres? (Fazer um gráfico)\n",
    "    <li>Com todos os atributos, fazer um experimento para identificar gênero do autor. Não utilize a coluna gênero do autor nem nome do autor nem id do autor como atributo.\n",
    "    <li>Fazer alguma visualização com wordcloud"
   ]
  },
  {
   "cell_type": "code",
   "execution_count": null,
   "metadata": {},
   "outputs": [],
   "source": [
    "import pandas as pd\n",
    "import numpy as np\n",
    "import matplotlib.pyplot as plt\n",
    "import seaborn as sns\n",
    "import warnings\n",
    "warnings.filterwarnings('ignore')"
   ]
  },
  {
   "cell_type": "code",
   "execution_count": null,
   "metadata": {},
   "outputs": [],
   "source": [
    "df = pd.read_csv('good_reads_final.csv')"
   ]
  },
  {
   "cell_type": "code",
   "execution_count": null,
   "metadata": {},
   "outputs": [],
   "source": [
    "df.columns"
   ]
  },
  {
   "attachments": {},
   "cell_type": "markdown",
   "metadata": {},
   "source": [
    "<h2>Limpando os Dados"
   ]
  },
  {
   "cell_type": "code",
   "execution_count": null,
   "metadata": {},
   "outputs": [],
   "source": [
    "df.drop(columns=['book_fullurl','author_page_url'], inplace=True)"
   ]
  },
  {
   "cell_type": "code",
   "execution_count": null,
   "metadata": {},
   "outputs": [],
   "source": [
    "df['pages'] = np.where(df['pages'] == '1 page', 1, df['pages'])\n",
    "df['birthplace'] = df['birthplace'].str.replace('\\\\n', '')\n",
    "df['author_name'] = df['author_name'].str.replace('\\\\n', '')\n",
    "df['book_title'] = df['book_title'].str.replace('\\\\n', '')\n",
    "df.publish_date = df.publish_date.str.extract('(^[\\d]{1,4})').astype('category')"
   ]
  },
  {
   "cell_type": "code",
   "execution_count": null,
   "metadata": {},
   "outputs": [],
   "source": [
    "df['author_average_rating'] = df['author_average_rating'].astype(float)\n",
    "df['author_gender'] = df['author_gender'].astype(str).astype('category')\n",
    "df['author_genres'] = df['author_genres'].astype(str).astype('category')\n",
    "df['author_id'] = df['author_id'].astype(int).astype('category')\n",
    "df['author_name'] = df['author_name'].astype(str)\n",
    "df['author_rating_count'] = df['author_rating_count'].astype(int)\n",
    "df['author_review_count'] = df['author_review_count'].astype(int)\n",
    "df['book_id'] = df['book_id'].astype(str).astype('category')\n",
    "df['birthplace'] = df['birthplace'].astype(str)\n",
    "df['book_average_rating'] = df['book_average_rating'].astype(float)\n",
    "df['book_title'] = df['book_title'].astype(str)\n",
    "df['genre_1'] = df['genre_1'].astype(str).astype('category')\n",
    "df['genre_2'] = df['genre_2'].astype(str).astype('category')\n",
    "df['num_ratings'] = df['num_ratings'].astype(int)\n",
    "df['num_reviews'] = df['num_reviews'].astype(int)\n",
    "df['pages'] = df['pages'].astype(int)\n",
    "df['score'] = df['score'].astype(float)"
   ]
  },
  {
   "cell_type": "code",
   "execution_count": null,
   "metadata": {},
   "outputs": [],
   "source": [
    "df.head()"
   ]
  },
  {
   "cell_type": "code",
   "execution_count": null,
   "metadata": {},
   "outputs": [],
   "source": [
    "df.groupby('author_gender',observed=True).count()['pages'].plot(kind='bar',figsize=(12,5)).set_title('Total de páginas por gênero')"
   ]
  },
  {
   "cell_type": "code",
   "execution_count": null,
   "metadata": {},
   "outputs": [],
   "source": [
    "plt.figure(figsize=(12,5))\n",
    "sns.lineplot(df.dropna().groupby(['author_gender','publish_date'],observed=True,as_index=True).sum(),x='publish_date',y='pages',hue='author_gender').set_title('Total de páginas por gênero e ano de publicação')\n",
    "plt.xticks([])"
   ]
  },
  {
   "cell_type": "code",
   "execution_count": null,
   "metadata": {},
   "outputs": [],
   "source": [
    "plt.figure(figsize=(30,5))\n",
    "sns.boxplot(x='genre_1',y='pages',data=df,hue='author_gender', palette='rainbow')\n",
    "plt.xticks(rotation=90)"
   ]
  },
  {
   "cell_type": "code",
   "execution_count": null,
   "metadata": {},
   "outputs": [],
   "source": [
    "plt.figure(figsize=(30,5))\n",
    "sns.boxplot(x='genre_2',y='pages',data=df,hue='author_gender', palette='rainbow')\n",
    "plt.xticks(rotation=90)"
   ]
  },
  {
   "cell_type": "code",
   "execution_count": null,
   "metadata": {},
   "outputs": [],
   "source": [
    "import pandas as pd\n",
    "from gensim.utils import simple_preprocess\n",
    "from gensim.parsing.preprocessing import remove_stopwords\n",
    "from gensim.models.doc2vec import Doc2Vec, TaggedDocument\n",
    "from sklearn.model_selection import train_test_split\n",
    "from sklearn.metrics import accuracy_score\n",
    "from sklearn.linear_model import LogisticRegression\n",
    "from sklearn.neighbors import KNeighborsClassifier\n",
    "from sklearn.tree import DecisionTreeClassifier\n",
    "from sklearn.ensemble import RandomForestClassifier, GradientBoostingClassifier\n",
    "from sklearn.svm import SVC\n",
    "from sklearn.naive_bayes import MultinomialNB\n",
    "from sklearn.pipeline import Pipeline\n",
    "from sklearn.model_selection import RandomizedSearchCV"
   ]
  },
  {
   "cell_type": "code",
   "execution_count": null,
   "metadata": {},
   "outputs": [],
   "source": [
    "from sklearn.preprocessing import LabelEncoder\n",
    "\n",
    "encoder = LabelEncoder()\n",
    "df['target'] = encoder.fit_transform(df['genre_1'])\n"
   ]
  },
  {
   "cell_type": "code",
   "execution_count": null,
   "metadata": {},
   "outputs": [],
   "source": [
    "X_train, X_test, y_train, y_test = train_test_split(df['book_title'], df['target'], test_size=0.2, random_state=42)"
   ]
  },
  {
   "cell_type": "code",
   "execution_count": null,
   "metadata": {},
   "outputs": [],
   "source": [
    "def preprocess_text(text):\n",
    "    return [token for token in simple_preprocess(remove_stopwords(text)) if token not in ['']]"
   ]
  },
  {
   "cell_type": "code",
   "execution_count": null,
   "metadata": {},
   "outputs": [],
   "source": [
    "train_data = [preprocess_text(text) for text in X_train]\n",
    "test_data = [preprocess_text(text) for text in X_test]"
   ]
  },
  {
   "cell_type": "code",
   "execution_count": null,
   "metadata": {},
   "outputs": [],
   "source": [
    "print(train_data[0], y_train.iloc[0])\n",
    "print(test_data[0], y_test.iloc[0])"
   ]
  },
  {
   "cell_type": "code",
   "execution_count": null,
   "metadata": {},
   "outputs": [],
   "source": [
    "train_tagged = [TaggedDocument(words=doc, tags=[str(i)]) for i, doc in enumerate(train_data)]\n",
    "test_tagged = [TaggedDocument(words=doc, tags=[str(i)]) for i, doc in enumerate(test_data)]"
   ]
  },
  {
   "cell_type": "code",
   "execution_count": null,
   "metadata": {},
   "outputs": [],
   "source": [
    "print(train_tagged[0], y_train.iloc[0])\n",
    "print(test_tagged[0], y_test.iloc[0])"
   ]
  },
  {
   "cell_type": "code",
   "execution_count": null,
   "metadata": {},
   "outputs": [],
   "source": [
    "model = Doc2Vec(vector_size=50, min_count=2, epochs=40)\n",
    "model.build_vocab(train_tagged)\n",
    "model.train(train_tagged, total_examples=model.corpus_count, epochs=model.epochs)"
   ]
  },
  {
   "cell_type": "code",
   "execution_count": null,
   "metadata": {},
   "outputs": [],
   "source": [
    "train_vectors = [model.infer_vector(doc.words) for doc in train_tagged]\n",
    "test_vectors = [model.infer_vector(doc.words) for doc in test_tagged]"
   ]
  },
  {
   "cell_type": "code",
   "execution_count": null,
   "metadata": {},
   "outputs": [],
   "source": [
    "print(train_vectors[0], y_train.iloc[0])\n",
    "print(test_vectors[0], y_test.iloc[0])"
   ]
  },
  {
   "attachments": {},
   "cell_type": "markdown",
   "metadata": {},
   "source": [
    "<h3>Tuning"
   ]
  },
  {
   "cell_type": "code",
   "execution_count": null,
   "metadata": {},
   "outputs": [],
   "source": [
    "param_space = {\n",
    "    \"LogisticRegression\": {\n",
    "        \"classifier\": [LogisticRegression()],\n",
    "        \"classifier__C\": np.logspace(-4, 4, 20),\n",
    "        \"classifier__penalty\": [\"l1\", \"l2\", \"elasticnet\", \"none\"],\n",
    "        \"classifier__solver\": [\"lbfgs\", \"liblinear\", \"saga\"]\n",
    "    },\n",
    "    \"KNeighborsClassifier\": {\n",
    "        \"classifier\": [KNeighborsClassifier()],\n",
    "        \"classifier__n_neighbors\": range(1, 31),\n",
    "        \"classifier__weights\": [\"uniform\", \"distance\"],\n",
    "        \"classifier__algorithm\": [\"auto\", \"ball_tree\", \"kd_tree\", \"brute\"],\n",
    "        \"classifier__leaf_size\": range(1, 51)\n",
    "    },\n",
    "    \"DecisionTreeClassifier\": {\n",
    "        \"classifier\": [DecisionTreeClassifier()],\n",
    "        \"classifier__max_depth\": range(1, 31),\n",
    "        \"classifier__criterion\": [\"gini\", \"entropy\"],\n",
    "        \"classifier__splitter\": [\"best\", \"random\"]\n",
    "    },\n",
    "    \"RandomForestClassifier\": {\n",
    "        \"classifier\": [RandomForestClassifier()],\n",
    "        \"classifier__n_estimators\": range(10, 101, 10),\n",
    "        \"classifier__criterion\": [\"gini\", \"entropy\"],\n",
    "        \"classifier__max_depth\": range(1, 31),\n",
    "        \"classifier__min_samples_split\": range(2, 11),\n",
    "        \"classifier__min_samples_leaf\": range(1, 6),\n",
    "        \"classifier__bootstrap\": [True, False]\n",
    "    },\n",
    "    \"GradientBoostingClassifier\": {\n",
    "        \"classifier\": [GradientBoostingClassifier()],\n",
    "        \"classifier__n_estimators\": range(10, 101, 10),\n",
    "        \"classifier__learning_rate\": np.logspace(-4, 0, 10),\n",
    "        \"classifier__max_depth\": range(1, 31),\n",
    "        \"classifier__min_samples_split\": range(2, 11),\n",
    "        \"classifier__min_samples_leaf\": range(1, 6),\n",
    "        \"classifier__subsample\": np.arange(0.5, 1.0, 0.1)\n",
    "    },\n",
    "    \"SVC\": {\n",
    "        \"classifier\": [SVC()],\n",
    "        \"classifier__C\": np.logspace(-4, 4, 20),\n",
    "        \"classifier__kernel\": [\"linear\", \"rbf\", \"poly\", \"sigmoid\"],\n",
    "\"classifier__degree\": range(1, 6),\n",
    "\"classifier__gamma\": [\"scale\", \"auto\"]\n",
    "}\n",
    "}   \n"
   ]
  },
  {
   "attachments": {},
   "cell_type": "markdown",
   "metadata": {},
   "source": [
    "<h3>Models"
   ]
  },
  {
   "cell_type": "code",
   "execution_count": null,
   "metadata": {},
   "outputs": [],
   "source": [
    "classifiers = [\n",
    "LogisticRegression(),\n",
    "KNeighborsClassifier(),\n",
    "DecisionTreeClassifier(),\n",
    "RandomForestClassifier(),\n",
    "GradientBoostingClassifier(),\n",
    "SVC(),\n",
    "]"
   ]
  },
  {
   "cell_type": "code",
   "execution_count": null,
   "metadata": {},
   "outputs": [],
   "source": [
    "results = []\n",
    "for clf in classifiers:\n",
    "    pipe = Pipeline([('classifier', clf)])"
   ]
  },
  {
   "cell_type": "code",
   "execution_count": null,
   "metadata": {},
   "outputs": [],
   "source": [
    "random_search = RandomizedSearchCV(pipe, param_space[clf.__class__.__name__], n_iter=25, cv=3, n_jobs=-1, random_state=42)\n",
    "random_search.fit(train_vectors, y_train)"
   ]
  },
  {
   "cell_type": "code",
   "execution_count": null,
   "metadata": {},
   "outputs": [],
   "source": [
    "y_pred = random_search.predict(test_vectors)\n",
    "accuracy = accuracy_score(y_test, y_pred)\n",
    "results.append({\n",
    "    \"model\": clf.__class__.__name__,\n",
    "    \"best_params\": random_search.best_params_,\n",
    "    \"accuracy\": accuracy\n",
    "})"
   ]
  },
  {
   "cell_type": "code",
   "execution_count": null,
   "metadata": {},
   "outputs": [],
   "source": [
    "for result in results:\n",
    "    print(\"Model:\", result[\"model\"])\n",
    "    print(\"Best params:\", result[\"best_params\"])\n",
    "    print(\"Accuracy:\", result[\"accuracy\"])\n",
    "    print()"
   ]
  },
  {
   "cell_type": "code",
   "execution_count": null,
   "metadata": {},
   "outputs": [],
   "source": []
  }
 ],
 "metadata": {
  "kernelspec": {
   "display_name": "dojowin",
   "language": "python",
   "name": "python3"
  },
  "language_info": {
   "codemirror_mode": {
    "name": "ipython",
    "version": 3
   },
   "file_extension": ".py",
   "mimetype": "text/x-python",
   "name": "python",
   "nbconvert_exporter": "python",
   "pygments_lexer": "ipython3",
   "version": "3.10.8"
  },
  "orig_nbformat": 4,
  "vscode": {
   "interpreter": {
    "hash": "22adf4ae29c7db87a6a5e35403546b21487bbacdadf4da113fb0ab4de5ad6b23"
   }
  }
 },
 "nbformat": 4,
 "nbformat_minor": 2
}
