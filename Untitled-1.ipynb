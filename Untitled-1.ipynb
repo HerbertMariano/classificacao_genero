{
 "cells": [
  {
   "attachments": {},
   "cell_type": "markdown",
   "metadata": {},
   "source": [
    "<h2>Análise de Gênero de Autores:</h2>\n",
    "    <li>Fazer um experimento de classificação de texto e utilizar as métricas de classificação\n",
    "    <li>Quem escreve mais páginas, homens ou mulheres ou não há diferença? (Fazer um gráfico)\n",
    "    <li>Como é a distribuição de gênero de livro para homens e mulheres? (Fazer um gráfico)\n",
    "    <li>Com todos os atributos, fazer um experimento para identificar gênero do autor. Não utilize a coluna gênero do autor nem nome do autor nem id do autor como atributo.\n",
    "    <li>Fazer alguma visualização com wordcloud"
   ]
  },
  {
   "cell_type": "code",
   "execution_count": null,
   "metadata": {},
   "outputs": [],
   "source": [
    "import pandas as pd\n",
    "import numpy as np\n",
    "import matplotlib.pyplot as plt\n",
    "import seaborn as sns\n",
    "import warnings\n",
    "warnings.filterwarnings('ignore')"
   ]
  },
  {
   "cell_type": "code",
   "execution_count": null,
   "metadata": {},
   "outputs": [],
   "source": [
    "df = pd.read_csv('good_reads_final.csv')"
   ]
  },
  {
   "cell_type": "code",
   "execution_count": null,
   "metadata": {},
   "outputs": [],
   "source": [
    "df.columns"
   ]
  },
  {
   "attachments": {},
   "cell_type": "markdown",
   "metadata": {},
   "source": [
    "<h2>Limpando os Dados"
   ]
  },
  {
   "cell_type": "code",
   "execution_count": null,
   "metadata": {},
   "outputs": [],
   "source": [
    "df.drop(columns=['book_fullurl','author_page_url'], inplace=True)"
   ]
  },
  {
   "cell_type": "code",
   "execution_count": null,
   "metadata": {},
   "outputs": [],
   "source": [
    "df['pages'] = np.where(df['pages'] == '1 page', 1, df['pages'])\n",
    "df['birthplace'] = df['birthplace'].str.replace('\\\\n', '')\n",
    "df['author_name'] = df['author_name'].str.replace('\\\\n', '')\n",
    "df['book_title'] = df['book_title'].str.replace('\\\\n', '')\n",
    "df.publish_date = df.publish_date.str.extract('(^[\\d]{1,4})').astype('category')"
   ]
  },
  {
   "cell_type": "code",
   "execution_count": null,
   "metadata": {},
   "outputs": [],
   "source": [
    "df['author_average_rating'] = df['author_average_rating'].astype(float)\n",
    "df['author_gender'] = df['author_gender'].astype(str).astype('category')\n",
    "df['author_genres'] = df['author_genres'].astype(str).astype('category')\n",
    "df['author_id'] = df['author_id'].astype(int).astype('category')\n",
    "df['author_name'] = df['author_name'].astype(str)\n",
    "df['author_rating_count'] = df['author_rating_count'].astype(int)\n",
    "df['author_review_count'] = df['author_review_count'].astype(int)\n",
    "df['book_id'] = df['book_id'].astype(str).astype('category')\n",
    "df['birthplace'] = df['birthplace'].astype(str)\n",
    "df['book_average_rating'] = df['book_average_rating'].astype(float)\n",
    "df['book_title'] = df['book_title'].astype(str)\n",
    "df['genre_1'] = df['genre_1'].astype(str).astype('category')\n",
    "df['genre_2'] = df['genre_2'].astype(str).astype('category')\n",
    "df['num_ratings'] = df['num_ratings'].astype(int)\n",
    "df['num_reviews'] = df['num_reviews'].astype(int)\n",
    "df['pages'] = df['pages'].astype(int)\n",
    "df['score'] = df['score'].astype(float)"
   ]
  },
  {
   "cell_type": "code",
   "execution_count": null,
   "metadata": {},
   "outputs": [],
   "source": [
    "df.head()"
   ]
  },
  {
   "cell_type": "code",
   "execution_count": null,
   "metadata": {},
   "outputs": [],
   "source": [
    "df.groupby('author_gender',observed=True).count()['pages'].plot(kind='bar',figsize=(12,5)).set_title('Total de páginas por gênero')"
   ]
  },
  {
   "cell_type": "code",
   "execution_count": null,
   "metadata": {},
   "outputs": [],
   "source": [
    "plt.figure(figsize=(12,5))\n",
    "sns.lineplot(df.dropna().groupby(['author_gender','publish_date'],observed=True,as_index=True).sum(),x='publish_date',y='pages',hue='author_gender').set_title('Total de páginas por gênero e ano de publicação')\n",
    "plt.xticks([])"
   ]
  },
  {
   "cell_type": "code",
   "execution_count": null,
   "metadata": {},
   "outputs": [],
   "source": [
    "plt.figure(figsize=(30,5))\n",
    "sns.boxplot(x='genre_1',y='pages',data=df,hue='author_gender', palette='rainbow')\n",
    "plt.xticks(rotation=90)"
   ]
  },
  {
   "cell_type": "code",
   "execution_count": null,
   "metadata": {},
   "outputs": [],
   "source": [
    "plt.figure(figsize=(30,5))\n",
    "sns.boxplot(x='genre_2',y='pages',data=df,hue='author_gender', palette='rainbow')\n",
    "plt.xticks(rotation=90)"
   ]
  },
  {
   "cell_type": "code",
   "execution_count": null,
   "metadata": {},
   "outputs": [],
   "source": [
    "from sklearn.feature_extraction.text import TfidfVectorizer\n",
    "from sklearn.pipeline import Pipeline\n",
    "from sklearn.metrics import accuracy_score, precision_score, recall_score, f1_score\n",
    "from sklearn.model_selection import cross_val_score\n",
    "from sklearn.naive_bayes import MultinomialNB\n",
    "from sklearn.linear_model import LogisticRegression\n",
    "from sklearn.ensemble import RandomForestClassifier\n",
    "from sklearn.svm import SVC\n",
    "from skopt import BayesSearchCV\n",
    "from skopt.space import Real, Categorical, Integer\n",
    "from sklearn.model_selection import train_test_split"
   ]
  },
  {
   "cell_type": "code",
   "execution_count": 51,
   "metadata": {},
   "outputs": [],
   "source": [
    "from sklearn.model_selection import RandomizedSearchCV\n",
    "from scipy.stats import randint, uniform\n",
    "\n",
    "# Define a grade de parâmetros para cada modelo\n",
    "nb_params = {\n",
    "    'clf__alpha': uniform(0.01, 1)\n",
    "}\n",
    "\n",
    "lr_params = {\n",
    "    'clf__C': uniform(0.1, 100),\n",
    "    'tfidf__ngram_range': [(1, 1), (1, 2), (2, 2)],\n",
    "    'tfidf__use_idf': [True, False],\n",
    "    'tfidf__norm': ['l1', 'l2']\n",
    "}\n",
    "\n",
    "rf_params = {\n",
    "    'clf__n_estimators': randint(10, 100),\n",
    "    'clf__max_depth': randint(10, 100)\n",
    "}\n",
    "\n",
    "svm_params = {\n",
    "    'clf__C': uniform(0.1, 100),\n",
    "    'clf__kernel': ['linear', 'rbf', 'poly']\n",
    "}\n",
    "\n",
    "# Define uma grade de parâmetros para o pipeline\n",
    "param_space = {\n",
    "    'clf': [MultinomialNB(), LogisticRegression(max_iter=1000), \n",
    "            RandomForestClassifier(n_jobs=-1), SVC()],\n",
    "    'tfidf__max_features': [10000, 50000, 100000],\n",
    "}"
   ]
  },
  {
   "cell_type": "code",
   "execution_count": 52,
   "metadata": {},
   "outputs": [],
   "source": [
    "search_spaces = []\n",
    "\n",
    "for clf, params in zip(param_space['clf'], [nb_params, lr_params, rf_params, svm_params]):\n",
    "    clf_name = clf.__class__.__name__.lower()\n",
    "    clf_params = {f\"{clf_name}__{key}\": value for key, value in params.items()}\n",
    "    clf_params[f\"clf\"] = [clf]\n",
    "    search_spaces.append({**param_space, **clf_params})\n"
   ]
  },
  {
   "cell_type": "code",
   "execution_count": 53,
   "metadata": {},
   "outputs": [],
   "source": [
    "pipe = Pipeline([\n",
    "    ('tfidf', TfidfVectorizer()),\n",
    "    ('clf', MultinomialNB())\n",
    "])"
   ]
  },
  {
   "cell_type": "code",
   "execution_count": 54,
   "metadata": {},
   "outputs": [],
   "source": [
    "# Divide os dados em conjunto de treinamento e teste\n",
    "X_train, X_test, y_train, y_test = train_test_split(df['book_title'], df['genre_1'], test_size=0.2, random_state=42)"
   ]
  },
  {
   "cell_type": "code",
   "execution_count": 55,
   "metadata": {},
   "outputs": [
    {
     "data": {
      "text/html": [
       "<style>#sk-container-id-1 {color: black;background-color: white;}#sk-container-id-1 pre{padding: 0;}#sk-container-id-1 div.sk-toggleable {background-color: white;}#sk-container-id-1 label.sk-toggleable__label {cursor: pointer;display: block;width: 100%;margin-bottom: 0;padding: 0.3em;box-sizing: border-box;text-align: center;}#sk-container-id-1 label.sk-toggleable__label-arrow:before {content: \"▸\";float: left;margin-right: 0.25em;color: #696969;}#sk-container-id-1 label.sk-toggleable__label-arrow:hover:before {color: black;}#sk-container-id-1 div.sk-estimator:hover label.sk-toggleable__label-arrow:before {color: black;}#sk-container-id-1 div.sk-toggleable__content {max-height: 0;max-width: 0;overflow: hidden;text-align: left;background-color: #f0f8ff;}#sk-container-id-1 div.sk-toggleable__content pre {margin: 0.2em;color: black;border-radius: 0.25em;background-color: #f0f8ff;}#sk-container-id-1 input.sk-toggleable__control:checked~div.sk-toggleable__content {max-height: 200px;max-width: 100%;overflow: auto;}#sk-container-id-1 input.sk-toggleable__control:checked~label.sk-toggleable__label-arrow:before {content: \"▾\";}#sk-container-id-1 div.sk-estimator input.sk-toggleable__control:checked~label.sk-toggleable__label {background-color: #d4ebff;}#sk-container-id-1 div.sk-label input.sk-toggleable__control:checked~label.sk-toggleable__label {background-color: #d4ebff;}#sk-container-id-1 input.sk-hidden--visually {border: 0;clip: rect(1px 1px 1px 1px);clip: rect(1px, 1px, 1px, 1px);height: 1px;margin: -1px;overflow: hidden;padding: 0;position: absolute;width: 1px;}#sk-container-id-1 div.sk-estimator {font-family: monospace;background-color: #f0f8ff;border: 1px dotted black;border-radius: 0.25em;box-sizing: border-box;margin-bottom: 0.5em;}#sk-container-id-1 div.sk-estimator:hover {background-color: #d4ebff;}#sk-container-id-1 div.sk-parallel-item::after {content: \"\";width: 100%;border-bottom: 1px solid gray;flex-grow: 1;}#sk-container-id-1 div.sk-label:hover label.sk-toggleable__label {background-color: #d4ebff;}#sk-container-id-1 div.sk-serial::before {content: \"\";position: absolute;border-left: 1px solid gray;box-sizing: border-box;top: 0;bottom: 0;left: 50%;z-index: 0;}#sk-container-id-1 div.sk-serial {display: flex;flex-direction: column;align-items: center;background-color: white;padding-right: 0.2em;padding-left: 0.2em;position: relative;}#sk-container-id-1 div.sk-item {position: relative;z-index: 1;}#sk-container-id-1 div.sk-parallel {display: flex;align-items: stretch;justify-content: center;background-color: white;position: relative;}#sk-container-id-1 div.sk-item::before, #sk-container-id-1 div.sk-parallel-item::before {content: \"\";position: absolute;border-left: 1px solid gray;box-sizing: border-box;top: 0;bottom: 0;left: 50%;z-index: -1;}#sk-container-id-1 div.sk-parallel-item {display: flex;flex-direction: column;z-index: 1;position: relative;background-color: white;}#sk-container-id-1 div.sk-parallel-item:first-child::after {align-self: flex-end;width: 50%;}#sk-container-id-1 div.sk-parallel-item:last-child::after {align-self: flex-start;width: 50%;}#sk-container-id-1 div.sk-parallel-item:only-child::after {width: 0;}#sk-container-id-1 div.sk-dashed-wrapped {border: 1px dashed gray;margin: 0 0.4em 0.5em 0.4em;box-sizing: border-box;padding-bottom: 0.4em;background-color: white;}#sk-container-id-1 div.sk-label label {font-family: monospace;font-weight: bold;display: inline-block;line-height: 1.2em;}#sk-container-id-1 div.sk-label-container {text-align: center;}#sk-container-id-1 div.sk-container {/* jupyter's `normalize.less` sets `[hidden] { display: none; }` but bootstrap.min.css set `[hidden] { display: none !important; }` so we also need the `!important` here to be able to override the default hidden behavior on the sphinx rendered scikit-learn.org. See: https://github.com/scikit-learn/scikit-learn/issues/21755 */display: inline-block !important;position: relative;}#sk-container-id-1 div.sk-text-repr-fallback {display: none;}</style><div id=\"sk-container-id-1\" class=\"sk-top-container\"><div class=\"sk-text-repr-fallback\"><pre>BayesSearchCV(cv=5,\n",
       "              estimator=Pipeline(steps=[(&#x27;tfidf&#x27;, TfidfVectorizer()),\n",
       "                                        (&#x27;clf&#x27;, MultinomialNB())]),\n",
       "              n_iter=20, n_jobs=-1, random_state=42, scoring=&#x27;accuracy&#x27;,\n",
       "              search_spaces={&#x27;clf&#x27;: [MultinomialNB(),\n",
       "                                     LogisticRegression(max_iter=1000),\n",
       "                                     RandomForestClassifier(n_jobs=-1), SVC()],\n",
       "                             &#x27;tfidf__max_features&#x27;: [10000, 50000, 100000]})</pre><b>In a Jupyter environment, please rerun this cell to show the HTML representation or trust the notebook. <br />On GitHub, the HTML representation is unable to render, please try loading this page with nbviewer.org.</b></div><div class=\"sk-container\" hidden><div class=\"sk-item sk-dashed-wrapped\"><div class=\"sk-label-container\"><div class=\"sk-label sk-toggleable\"><input class=\"sk-toggleable__control sk-hidden--visually\" id=\"sk-estimator-id-1\" type=\"checkbox\" ><label for=\"sk-estimator-id-1\" class=\"sk-toggleable__label sk-toggleable__label-arrow\">BayesSearchCV</label><div class=\"sk-toggleable__content\"><pre>BayesSearchCV(cv=5,\n",
       "              estimator=Pipeline(steps=[(&#x27;tfidf&#x27;, TfidfVectorizer()),\n",
       "                                        (&#x27;clf&#x27;, MultinomialNB())]),\n",
       "              n_iter=20, n_jobs=-1, random_state=42, scoring=&#x27;accuracy&#x27;,\n",
       "              search_spaces={&#x27;clf&#x27;: [MultinomialNB(),\n",
       "                                     LogisticRegression(max_iter=1000),\n",
       "                                     RandomForestClassifier(n_jobs=-1), SVC()],\n",
       "                             &#x27;tfidf__max_features&#x27;: [10000, 50000, 100000]})</pre></div></div></div><div class=\"sk-parallel\"><div class=\"sk-parallel-item\"><div class=\"sk-item\"><div class=\"sk-label-container\"><div class=\"sk-label sk-toggleable\"><input class=\"sk-toggleable__control sk-hidden--visually\" id=\"sk-estimator-id-2\" type=\"checkbox\" ><label for=\"sk-estimator-id-2\" class=\"sk-toggleable__label sk-toggleable__label-arrow\">estimator: Pipeline</label><div class=\"sk-toggleable__content\"><pre>Pipeline(steps=[(&#x27;tfidf&#x27;, TfidfVectorizer()), (&#x27;clf&#x27;, MultinomialNB())])</pre></div></div></div><div class=\"sk-serial\"><div class=\"sk-item\"><div class=\"sk-serial\"><div class=\"sk-item\"><div class=\"sk-estimator sk-toggleable\"><input class=\"sk-toggleable__control sk-hidden--visually\" id=\"sk-estimator-id-3\" type=\"checkbox\" ><label for=\"sk-estimator-id-3\" class=\"sk-toggleable__label sk-toggleable__label-arrow\">TfidfVectorizer</label><div class=\"sk-toggleable__content\"><pre>TfidfVectorizer()</pre></div></div></div><div class=\"sk-item\"><div class=\"sk-estimator sk-toggleable\"><input class=\"sk-toggleable__control sk-hidden--visually\" id=\"sk-estimator-id-4\" type=\"checkbox\" ><label for=\"sk-estimator-id-4\" class=\"sk-toggleable__label sk-toggleable__label-arrow\">MultinomialNB</label><div class=\"sk-toggleable__content\"><pre>MultinomialNB()</pre></div></div></div></div></div></div></div></div></div></div></div></div>"
      ],
      "text/plain": [
       "BayesSearchCV(cv=5,\n",
       "              estimator=Pipeline(steps=[('tfidf', TfidfVectorizer()),\n",
       "                                        ('clf', MultinomialNB())]),\n",
       "              n_iter=20, n_jobs=-1, random_state=42, scoring='accuracy',\n",
       "              search_spaces={'clf': [MultinomialNB(),\n",
       "                                     LogisticRegression(max_iter=1000),\n",
       "                                     RandomForestClassifier(n_jobs=-1), SVC()],\n",
       "                             'tfidf__max_features': [10000, 50000, 100000]})"
      ]
     },
     "execution_count": 55,
     "metadata": {},
     "output_type": "execute_result"
    }
   ],
   "source": [
    "opt = BayesSearchCV(\n",
    "    pipe,\n",
    "    param_space,\n",
    "    n_iter=20,\n",
    "    cv=5,\n",
    "    n_jobs=-1,\n",
    "    scoring='accuracy',\n",
    "    random_state=42\n",
    ")\n",
    "opt.fit(X_train, y_train)"
   ]
  },
  {
   "cell_type": "code",
   "execution_count": 56,
   "metadata": {},
   "outputs": [
    {
     "name": "stdout",
     "output_type": "stream",
     "text": [
      "Melhores hiperparâmetros:\n",
      "clf: RandomForestClassifier(n_jobs=-1)\n",
      "tfidf__max_features: 10000\n"
     ]
    }
   ],
   "source": [
    "print(\"Melhores hiperparâmetros:\")\n",
    "for param in opt.best_params_:\n",
    "    print(\"{}: {}\".format(param, opt.best_params_[param]))"
   ]
  },
  {
   "cell_type": "code",
   "execution_count": 57,
   "metadata": {},
   "outputs": [
    {
     "name": "stdout",
     "output_type": "stream",
     "text": [
      "Acurácia: 53.16%\n",
      "Precisão: 51.90%\n",
      "Recall: 32.73%\n",
      "F1: 37.65%\n"
     ]
    }
   ],
   "source": [
    "y_pred = opt.predict(X_test)\n",
    "print(\"Acurácia: {:.2f}%\".format(accuracy_score(y_test, y_pred) * 100))\n",
    "print(\"Precisão: {:.2f}%\".format(precision_score(y_test, y_pred, average='macro') * 100))\n",
    "print(\"Recall: {:.2f}%\".format(recall_score(y_test, y_pred, average='macro') * 100))\n",
    "print(\"F1: {:.2f}%\".format(f1_score(y_test, y_pred, average='macro') * 100))"
   ]
  },
  {
   "cell_type": "code",
   "execution_count": 60,
   "metadata": {},
   "outputs": [
    {
     "data": {
      "text/plain": [
       "array([[  7,   0,   0, ...,   0,   0,   1],\n",
       "       [  0,   2,   0, ...,   0,   0,   1],\n",
       "       [  0,   0,   0, ...,   0,   0,   0],\n",
       "       ...,\n",
       "       [  0,   0,   0, ...,   5,   0,   1],\n",
       "       [  0,   0,   0, ...,   0,   1,   0],\n",
       "       [  1,   0,   0, ...,   0,   1, 284]], dtype=int64)"
      ]
     },
     "execution_count": 60,
     "metadata": {},
     "output_type": "execute_result"
    }
   ],
   "source": [
    "from sklearn.metrics import confusion_matrix\n",
    "\n",
    "cm = confusion_matrix(y_test, y_pred)\n",
    "cm"
   ]
  },
  {
   "cell_type": "code",
   "execution_count": null,
   "metadata": {},
   "outputs": [],
   "source": []
  }
 ],
 "metadata": {
  "kernelspec": {
   "display_name": "dojowin",
   "language": "python",
   "name": "python3"
  },
  "language_info": {
   "codemirror_mode": {
    "name": "ipython",
    "version": 3
   },
   "file_extension": ".py",
   "mimetype": "text/x-python",
   "name": "python",
   "nbconvert_exporter": "python",
   "pygments_lexer": "ipython3",
   "version": "3.10.8"
  },
  "orig_nbformat": 4,
  "vscode": {
   "interpreter": {
    "hash": "22adf4ae29c7db87a6a5e35403546b21487bbacdadf4da113fb0ab4de5ad6b23"
   }
  }
 },
 "nbformat": 4,
 "nbformat_minor": 2
}
